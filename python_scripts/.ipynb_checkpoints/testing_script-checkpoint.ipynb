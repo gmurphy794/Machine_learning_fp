{
 "cells": [
  {
   "cell_type": "code",
   "execution_count": 1,
   "metadata": {},
   "outputs": [],
   "source": [
    "#Dependencies\n",
    "from sklearn.feature_extraction.text import CountVectorizer\n",
    "import pandas as pd\n",
    "import re\n",
    "import json"
   ]
  },
  {
   "cell_type": "code",
   "execution_count": 3,
   "metadata": {},
   "outputs": [],
   "source": [
    "df = pd.read_csv(\"../Datasets/review.csv\")"
   ]
  },
  {
   "cell_type": "code",
   "execution_count": 7,
   "metadata": {},
   "outputs": [
    {
     "data": {
      "text/plain": [
       "0    b'Total bill for this horrible service? Over $...\n",
       "1    b\"I *adore* Travis at the Hard Rock's new Kell...\n",
       "2    b\"I have to say that this office really has it...\n",
       "3    b\"Went in for a lunch. Steak sandwich was deli...\n",
       "4    b'Today was my second out of three sessions I ...\n",
       "Name: text, dtype: object"
      ]
     },
     "execution_count": 7,
     "metadata": {},
     "output_type": "execute_result"
    }
   ],
   "source": [
    "df['text'].head()"
   ]
  },
  {
   "cell_type": "code",
   "execution_count": 8,
   "metadata": {},
   "outputs": [],
   "source": [
    "test_df = df[:200]"
   ]
  },
  {
   "cell_type": "code",
   "execution_count": 13,
   "metadata": {},
   "outputs": [
    {
     "data": {
      "text/html": [
       "<div>\n",
       "<style scoped>\n",
       "    .dataframe tbody tr th:only-of-type {\n",
       "        vertical-align: middle;\n",
       "    }\n",
       "\n",
       "    .dataframe tbody tr th {\n",
       "        vertical-align: top;\n",
       "    }\n",
       "\n",
       "    .dataframe thead th {\n",
       "        text-align: right;\n",
       "    }\n",
       "</style>\n",
       "<table border=\"1\" class=\"dataframe\">\n",
       "  <thead>\n",
       "    <tr style=\"text-align: right;\">\n",
       "      <th></th>\n",
       "      <th>date</th>\n",
       "      <th>useful</th>\n",
       "      <th>usiness_id</th>\n",
       "      <th>text</th>\n",
       "      <th>funny</th>\n",
       "      <th>user_id</th>\n",
       "      <th>stars</th>\n",
       "      <th>cool</th>\n",
       "      <th>review_id</th>\n",
       "    </tr>\n",
       "  </thead>\n",
       "  <tbody>\n",
       "    <tr>\n",
       "      <th>0</th>\n",
       "      <td>b'2013-05-07 04:34:36'</td>\n",
       "      <td>6</td>\n",
       "      <td>b'ujmEBvifdJM6h6RLv4wQIg'</td>\n",
       "      <td>b'Total bill for this horrible service? Over $...</td>\n",
       "      <td>1</td>\n",
       "      <td>b'hG7b0MtEbXx5QzbzE6C_VA'</td>\n",
       "      <td>1.0</td>\n",
       "      <td>0</td>\n",
       "      <td>b'Q1sbwvVQXV2734tPgoKj4Q'</td>\n",
       "    </tr>\n",
       "    <tr>\n",
       "      <th>1</th>\n",
       "      <td>b'2017-01-14 21:30:33'</td>\n",
       "      <td>0</td>\n",
       "      <td>b'NZnhc2sEQy3RmzKTZnqtwQ'</td>\n",
       "      <td>b\"I *adore* Travis at the Hard Rock's new Kell...</td>\n",
       "      <td>0</td>\n",
       "      <td>b'yXQM5uF2jS6es16SJzNHfg'</td>\n",
       "      <td>5.0</td>\n",
       "      <td>0</td>\n",
       "      <td>b'GJXCdrto3ASJOqKeVWPi6Q'</td>\n",
       "    </tr>\n",
       "    <tr>\n",
       "      <th>2</th>\n",
       "      <td>b'2016-11-09 20:09:03'</td>\n",
       "      <td>3</td>\n",
       "      <td>b'WTqjgwHlXbSFevF32_DJVw'</td>\n",
       "      <td>b\"I have to say that this office really has it...</td>\n",
       "      <td>0</td>\n",
       "      <td>b'n6-Gk65cPZL6Uz8qRm3NYw'</td>\n",
       "      <td>5.0</td>\n",
       "      <td>0</td>\n",
       "      <td>b'2TzJjDVDEuAW6MR5Vuc1ug'</td>\n",
       "    </tr>\n",
       "    <tr>\n",
       "      <th>3</th>\n",
       "      <td>b'2018-01-09 20:56:38'</td>\n",
       "      <td>0</td>\n",
       "      <td>b'ikCg8xy5JIg_NGPx-MSIDA'</td>\n",
       "      <td>b\"Went in for a lunch. Steak sandwich was deli...</td>\n",
       "      <td>0</td>\n",
       "      <td>b'dacAIZ6fTM6mqwW5uxkskg'</td>\n",
       "      <td>5.0</td>\n",
       "      <td>0</td>\n",
       "      <td>b'yi0R0Ugj_xUx_Nek0-_Qig'</td>\n",
       "    </tr>\n",
       "    <tr>\n",
       "      <th>4</th>\n",
       "      <td>b'2018-01-30 23:07:38'</td>\n",
       "      <td>7</td>\n",
       "      <td>b'b1b1eb3uo-w561D0ZfCEiQ'</td>\n",
       "      <td>b'Today was my second out of three sessions I ...</td>\n",
       "      <td>0</td>\n",
       "      <td>b'ssoyf2_x0EQMed6fgHeMyQ'</td>\n",
       "      <td>1.0</td>\n",
       "      <td>0</td>\n",
       "      <td>b'11a8sVPMUFtaC7_ABRkmtw'</td>\n",
       "    </tr>\n",
       "  </tbody>\n",
       "</table>\n",
       "</div>"
      ],
      "text/plain": [
       "                     date  useful                 usiness_id  \\\n",
       "0  b'2013-05-07 04:34:36'       6  b'ujmEBvifdJM6h6RLv4wQIg'   \n",
       "1  b'2017-01-14 21:30:33'       0  b'NZnhc2sEQy3RmzKTZnqtwQ'   \n",
       "2  b'2016-11-09 20:09:03'       3  b'WTqjgwHlXbSFevF32_DJVw'   \n",
       "3  b'2018-01-09 20:56:38'       0  b'ikCg8xy5JIg_NGPx-MSIDA'   \n",
       "4  b'2018-01-30 23:07:38'       7  b'b1b1eb3uo-w561D0ZfCEiQ'   \n",
       "\n",
       "                                                text  funny  \\\n",
       "0  b'Total bill for this horrible service? Over $...      1   \n",
       "1  b\"I *adore* Travis at the Hard Rock's new Kell...      0   \n",
       "2  b\"I have to say that this office really has it...      0   \n",
       "3  b\"Went in for a lunch. Steak sandwich was deli...      0   \n",
       "4  b'Today was my second out of three sessions I ...      0   \n",
       "\n",
       "                     user_id  stars  cool                  review_id  \n",
       "0  b'hG7b0MtEbXx5QzbzE6C_VA'    1.0     0  b'Q1sbwvVQXV2734tPgoKj4Q'  \n",
       "1  b'yXQM5uF2jS6es16SJzNHfg'    5.0     0  b'GJXCdrto3ASJOqKeVWPi6Q'  \n",
       "2  b'n6-Gk65cPZL6Uz8qRm3NYw'    5.0     0  b'2TzJjDVDEuAW6MR5Vuc1ug'  \n",
       "3  b'dacAIZ6fTM6mqwW5uxkskg'    5.0     0  b'yi0R0Ugj_xUx_Nek0-_Qig'  \n",
       "4  b'ssoyf2_x0EQMed6fgHeMyQ'    1.0     0  b'11a8sVPMUFtaC7_ABRkmtw'  "
      ]
     },
     "execution_count": 13,
     "metadata": {},
     "output_type": "execute_result"
    }
   ],
   "source": [
    "test_df.head()"
   ]
  },
  {
   "cell_type": "code",
   "execution_count": 10,
   "metadata": {},
   "outputs": [],
   "source": [
    "test_df.to_csv('review_test.csv')"
   ]
  },
  {
   "cell_type": "code",
   "execution_count": 16,
   "metadata": {},
   "outputs": [],
   "source": [
    "test_df.columns = test_df.columns.str[2:]"
   ]
  },
  {
   "cell_type": "code",
   "execution_count": null,
   "metadata": {},
   "outputs": [],
   "source": []
  }
 ],
 "metadata": {
  "kernelspec": {
   "display_name": "Python 3",
   "language": "python",
   "name": "python3"
  },
  "language_info": {
   "codemirror_mode": {
    "name": "ipython",
    "version": 3
   },
   "file_extension": ".py",
   "mimetype": "text/x-python",
   "name": "python",
   "nbconvert_exporter": "python",
   "pygments_lexer": "ipython3",
   "version": "3.6.7"
  }
 },
 "nbformat": 4,
 "nbformat_minor": 2
}
